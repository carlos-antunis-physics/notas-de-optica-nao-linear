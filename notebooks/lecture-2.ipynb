{
 "cells": [
  {
   "cell_type": "markdown",
   "id": "e3e102ef",
   "metadata": {},
   "source": [
    "<div align=\"center\">\n",
    "\n",
    "#   Eletrodinâmica de meios não-lineares\n",
    "\n",
    "**Autor.** Carlos Antunis Bonfim da Silva Santos\n",
    "\n",
    "</div>"
   ]
  },
  {
   "cell_type": "markdown",
   "id": "0dcfcdd4",
   "metadata": {},
   "source": [
    "<div align=\"center\">\n",
    "\n",
    "![under construction](https://github.com/carlos-antunis-physics/carlos-antunis-physics/blob/main/assets/under-construction.png?raw=true)\n",
    "\n",
    "</div>"
   ]
  }
 ],
 "metadata": {
  "language_info": {
   "name": "python"
  }
 },
 "nbformat": 4,
 "nbformat_minor": 5
}
