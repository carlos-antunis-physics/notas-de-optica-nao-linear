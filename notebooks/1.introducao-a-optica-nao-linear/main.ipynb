{
 "cells": [
  {
   "cell_type": "markdown",
   "id": "5e25902d",
   "metadata": {},
   "source": [
    "<div align=\"center\">\n",
    "\n",
    "#   Introdução à óptica não-linear\n",
    "\n",
    "</div>\n",
    "\n",
    "**Autor.** Carlos Antunis Bonfim da Silva Santos"
   ]
  },
  {
   "cell_type": "code",
   "execution_count": null,
   "id": "b57e71cb",
   "metadata": {},
   "outputs": [],
   "source": [
    "using CairoMakie;\n",
    "const mech = include(\"mechanics.jl\");"
   ]
  }
 ],
 "metadata": {
  "kernelspec": {
   "display_name": "base",
   "language": "python",
   "name": "python3"
  },
  "language_info": {
   "file_extension": ".jl",
   "mimetype": "application/julia",
   "name": "python",
   "version": "3.12.9"
  }
 },
 "nbformat": 4,
 "nbformat_minor": 5
}
